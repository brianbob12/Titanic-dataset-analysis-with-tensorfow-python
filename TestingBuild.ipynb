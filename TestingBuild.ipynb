{
  "nbformat": 4,
  "nbformat_minor": 0,
  "metadata": {
    "colab": {
      "name": "TestingBuild.ipynb",
      "version": "0.3.2",
      "provenance": [],
      "collapsed_sections": []
    },
    "kernelspec": {
      "name": "python3",
      "display_name": "Python 3"
    }
  },
  "cells": [
    {
      "cell_type": "code",
      "metadata": {
        "id": "uaP3hHEP_kSe",
        "colab_type": "code",
        "colab": {}
      },
      "source": [
        "import tensorflow as tf\n",
        "import numpy as np\n",
        "import matplotlib.pyplot as plt\n",
        "import pandas as pd\n",
        "import math"
      ],
      "execution_count": 0,
      "outputs": []
    },
    {
      "cell_type": "code",
      "metadata": {
        "id": "fuHfp4DmzzlW",
        "colab_type": "code",
        "colab": {}
      },
      "source": [
        "def prep(x):#takes a row of the dataset and preps it for nural net\n",
        "  out=[]\n",
        "  y=x[0]\n",
        "  x=x[1:]\n",
        "  x=np.array(x)\n",
        "  for i,v in enumerate(x):\n",
        "    if i!=7 and i!=8:\n",
        "      x[i]=np.array(v)\n",
        "  for i in x:\n",
        "    try:\n",
        "      for j in i:\n",
        "        out.append(float(j))\n",
        "    except:\n",
        "      out.append(float(i))\n",
        "  \n",
        "  return out,y"
      ],
      "execution_count": 0,
      "outputs": []
    },
    {
      "cell_type": "code",
      "metadata": {
        "id": "fR5t5r8w8UKH",
        "colab_type": "code",
        "colab": {}
      },
      "source": [
        "def liniar1(arg):\n",
        "  return arg"
      ],
      "execution_count": 0,
      "outputs": []
    },
    {
      "cell_type": "code",
      "metadata": {
        "id": "uRJl7j1FX1TS",
        "colab_type": "code",
        "colab": {}
      },
      "source": [
        "train_url=\"https://raw.githubusercontent.com/brianbob12/brianbob12.github.io/master/titanic_train.csv\"\n",
        "train_data=pd.read_csv(train_url)\n",
        "train_data=train_data.drop(columns=[\"Name\",\"Ticket\"])#remove irrelecent or unusable data\n",
        "\n",
        "#split the cabin data into two poits\n",
        "pre_CabinA=[]#CabinA is the cabin letter(as an array of 8  -Nan and the 7 letters)\n",
        "#pre_CabinA    [A,B,C,D,E,F,G,T,nan]\n",
        "pre_CabinB=[]#CabinB is the cabin number 0 for nan\n",
        "for cab in train_data[\"Cabin\"]:\n",
        "  if str(cab) ==\"nan\":\n",
        "    pre_CabinA.append(np.array([0 for i in range(8)]))\n",
        "    pre_CabinB.append(0)\n",
        "  elif len(str(cab).split(\" \"))>1:\n",
        "    a=str(cab).split(\" \")\n",
        "    for pos in a:\n",
        "      if len(str(pos))>1:\n",
        "        new_cab=pos\n",
        "    \n",
        "    let=new_cab[0]\n",
        "    to_let=[0 for i in range(8)]\n",
        "    if let!=\"T\":\n",
        "      to_let[ord(let)-65]=1\n",
        "    else:\n",
        "      to_let[6]=1\n",
        "    num=int(new_cab[1:])\n",
        "    pre_CabinA.append(np.array(to_let))\n",
        "    pre_CabinB.append(num)\n",
        "  else:\n",
        "    \n",
        "    if len(str(cab))==1:\n",
        "      new_cab=cab+\"0\"\n",
        "    else:\n",
        "      new_cab=cab\n",
        "    \n",
        "    let=new_cab[0]\n",
        "    to_let=[0 for i in range(8)]\n",
        "    if let!=\"T\":\n",
        "      to_let[ord(let)-65]=1\n",
        "    else:\n",
        "      to_let[6]=1\n",
        "    num=int(new_cab[1:])\n",
        "    pre_CabinA.append(np.array(to_let))\n",
        "    pre_CabinB.append(num)\n",
        "train_data[\"CabinA\"]=pre_CabinA\n",
        "train_data[\"CabinB\"]=pre_CabinB\n",
        "new_age=[]\n",
        "for ind in train_data[\"Age\"]:\n",
        "  if str(ind).lower()==\"nan\":\n",
        "    new_age.append(-1)#unavailable age\n",
        "  else:\n",
        "    new_age.append(int(ind))\n",
        "train_data[\"Age\"]=new_age\n",
        "train_data=train_data.drop(columns=[\"Cabin\",\"PassengerId\"])\n",
        "\n",
        "#embarked\n",
        "#array of 4\n",
        "new_embark=[]\n",
        "un=train_data[\"Embarked\"].unique()\n",
        "for i in train_data[\"Embarked\"]:\n",
        "  for inx,j in enumerate(un):\n",
        "    if str(i)==str(j):\n",
        "      ps=[0 for i in range(4)]\n",
        "      ps[inx]=1\n",
        "      new_embark.append(np.array(ps))\n",
        "      break\n",
        "train_data[\"Embarked\"]=new_embark\n",
        "#sex\n",
        "#0-female\n",
        "#1-male\n",
        "new_sex=[]\n",
        "for i in train_data[\"Sex\"]:\n",
        "  if i==\"female\":\n",
        "    new_sex.append(0)\n",
        "  else:\n",
        "    new_sex.append(1)\n",
        "train_data[\"Sex\"]=new_sex"
      ],
      "execution_count": 0,
      "outputs": []
    },
    {
      "cell_type": "code",
      "metadata": {
        "id": "h-xICg_YO4Jn",
        "colab_type": "code",
        "colab": {}
      },
      "source": [
        "#TESTING PROTOCOL\n",
        "n_test=30\n",
        "test_const=5#test constant spreads out the testdata amung the dataset\n",
        "hold_out=[]#the hold_out data is a lit of indeces for traking progress of the network\n",
        "for i in range(n_test):\n",
        "  hold_out.append((i*test_const)%(891+1))\n",
        "\n",
        "testing_log=[[],[],[],[]]#testing_log[0] is ,iteration testing_log[1] is accurasy testting_log[2] is average guess testing_log[3] is train error\n",
        "\n",
        "def Test(iteration):\n",
        "  batch_X=[]\n",
        "  batch_Y=[]\n",
        "  for indx in hold_out:\n",
        "    x,y=prep(train_data.loc[indx])\n",
        "    batch_X.append(x)\n",
        "    batch_Y.append([y])\n",
        "  error=math.sqrt(sess.run(tf.reduce_mean(cross_entropy),feed_dict={X:batch_X,Y:batch_Y,dropout:0}))\n",
        "  average_guess=tf.math.reduce_mean(sess.run(out_layer,feed_dict={X:batch_X,Y:batch_Y,dropout:0}))\n",
        "  print(\"-\"*15)\n",
        "  print(\"iteration:\",iteration)\n",
        "  print(\"average guess:\",sess.run(average_guess))\n",
        "  print(\"error:\",error)\n",
        "  print(\"-\"*15)\n",
        "  testing_log[0].append(iteration)\n",
        "  testing_log[1].append(error)\n",
        "  testing_log[2].append(sess.run(average_guess))\n",
        "  \n",
        "ans=[]\n",
        "for indx in hold_out:\n",
        "    x,y=prep(train_data.loc[indx]) \n",
        "    ans.append(y)\n",
        "test_data_average=sum(ans)/len(ans)"
      ],
      "execution_count": 0,
      "outputs": []
    },
    {
      "cell_type": "code",
      "metadata": {
        "id": "4Xv_qeihi7YU",
        "colab_type": "code",
        "outputId": "02344542-5015-40bc-bebe-b79917d5f8e1",
        "colab": {
          "base_uri": "https://localhost:8080/",
          "height": 35
        }
      },
      "source": [
        "surviv_rate=sum(train_data[\"Survived\"])/train_data.count()[\"Survived\"]\n",
        "print(\"data survival rate:\"+str(surviv_rate))"
      ],
      "execution_count": 0,
      "outputs": [
        {
          "output_type": "stream",
          "text": [
            "data survival rate:0.3838383838383838\n"
          ],
          "name": "stdout"
        }
      ]
    },
    {
      "cell_type": "code",
      "metadata": {
        "id": "Turr5TVdB25_",
        "colab_type": "code",
        "colab": {}
      },
      "source": [
        "train_data"
      ],
      "execution_count": 0,
      "outputs": []
    },
    {
      "cell_type": "code",
      "metadata": {
        "id": "mTjrbCmN8G5I",
        "colab_type": "code",
        "colab": {}
      },
      "source": [
        "x,y=prep(train_data.loc[1])\n",
        "print(x)\n",
        "print(y)"
      ],
      "execution_count": 0,
      "outputs": []
    },
    {
      "cell_type": "markdown",
      "metadata": {
        "id": "vPf_kBhp6gfV",
        "colab_type": "text"
      },
      "source": [
        "network"
      ]
    },
    {
      "cell_type": "code",
      "metadata": {
        "id": "v1MGXqjtX_ZE",
        "colab_type": "code",
        "outputId": "cf610fca-dd06-4f67-8d4c-9e7bcf841139",
        "colab": {
          "base_uri": "https://localhost:8080/",
          "height": 159
        }
      },
      "source": [
        "#CONSTANTS\n",
        "n_input=19\n",
        "n_out=1\n",
        "n_layers=4#excludes input layer includes output layer\n",
        "layer_number=[128,64,32,1]#number of neurons in each layer, excludes input layer includes output layer\n",
        "layer_activation=[tf.nn.relu,tf.nn.relu,tf.nn.relu,tf.nn.relu,tf.nn.relu]#activation function for each layer\n",
        "training_keep_probs=[0.5,0.5,1]#for each layer REMEMBER SET OUTPUT KEEP PROB TO 1\n",
        "#for the output 0=died 1=survived\n",
        "\n",
        "learning_rate=0.05\n",
        "batch_size=train_data.count()[0]-n_test#the whole dataset\n",
        "batch_iterations=180\n",
        "total_iterations=batch_size*batch_iterations\n",
        "#if total_iterations>train_data.shape[0]:\n",
        "#  print(\"only\",train_data.shape[0],\"datapoints available\")\n",
        "#start_weight=0.01\n",
        "#weight_constant=0.001\n",
        "\n",
        "X=tf.placeholder(\"float\",[None,n_input])\n",
        "Y=tf.placeholder(\"float\",[None,n_out])\n",
        "dropout=tf.placeholder(\"float\")#if 1 then dropout occurs ,if 0 no dropout occurs\n",
        "\n",
        "test_occurance=6#in batch iterations\n",
        "\n",
        "print(\"current structure:\")\n",
        "print(\"learning rate:\\t\"+str(learning_rate))\n",
        "print(\"batch size:\\t\"+str(batch_size))\n",
        "print(\"\\tinput layer positive float\\t-19-\")\n",
        "for i in range(n_layers-1):\n",
        "  print(\"\\thidden layer positive float\\t\",end=\"\")\n",
        "  print(\"-\"+str(layer_number[i])+\"-\\tactivation:\"+str(layer_activation[i]))\n",
        "print(\"\\toutput layer positive float\\t-1-\\tactivation:\"+str(layer_activation[-1]))"
      ],
      "execution_count": 0,
      "outputs": [
        {
          "output_type": "stream",
          "text": [
            "current structure:\n",
            "learning rate:\t0.05\n",
            "batch size:\t861\n",
            "\tinput layer positive float\t-19-\n",
            "\thidden layer positive float\t-128-\tactivation:<function relu at 0x7f0ea59dde18>\n",
            "\thidden layer positive float\t-64-\tactivation:<function relu at 0x7f0ea59dde18>\n",
            "\thidden layer positive float\t-32-\tactivation:<function relu at 0x7f0ea59dde18>\n",
            "\toutput layer positive float\t-1-\tactivation:<function relu at 0x7f0ea59dde18>\n"
          ],
          "name": "stdout"
        }
      ]
    },
    {
      "cell_type": "code",
      "metadata": {
        "id": "0SxFOAVC_wDy",
        "colab_type": "code",
        "colab": {}
      },
      "source": [
        "weights=[]\n",
        "biases=[]\n",
        "layers=[]\n",
        "dropout_layers=[]\n",
        "\n",
        "for i in range(n_layers):\n",
        "  biases.append(tf.Variable(tf.constant(0.1,shape=[layer_number[i]])))\n",
        "  if i==0:#first layer\n",
        "    #weights.append(tf.Variable(tf.constant(start_weight,shape=[n_input,layer_number[i]])))\n",
        "    weights.append(tf.Variable(\n",
        "        tf.math.scalar_mul(tf.math.sqrt(1/layer_number[i]**(i)),tf.truncated_normal([n_input,layer_number[i]],stddev=0.1))\n",
        "                  ))\n",
        "    #layers.append(tf.nn.dropout(layer_activation[i](tf.math.add(tf.matmul(X,weights[i]),biases[i])),rate=1-(training_keep_probs[i]*dropout)))\n",
        "    layers.append(layer_activation[i](tf.math.add(tf.matmul(X,weights[i]),biases[i])))\n",
        "    \n",
        "  else:\n",
        "    #weights.append(tf.Variable(tf.constant(start_weight+,shape=[layer_number[i-1],layer_number[i]])))\n",
        "    weights.append(tf.Variable(\n",
        "        tf.math.scalar_mul(tf.math.sqrt(1/layer_number[i]**(i)),tf.truncated_normal([layer_number[i-1],layer_number[i]],stddev=0.1))\n",
        "                  ))\n",
        "    #layers.append(tf.nn.dropout(layer_activation[i](tf.math.add(tf.matmul(layers[-1],weights[i]),biases[i])),rate=1-(training_keep_probs[i]*dropout)))\n",
        "    layers.append(layer_activation[i](tf.math.add(tf.matmul(layers[i-1],weights[i]),biases[i])))\n",
        "\n",
        "out_layer=layers[-1]#take the final layer\n",
        "\n",
        "#cross_entropy=tf.reduce_mean(tf.nn.sigmid_cross_entropy_with_logits(labels=Y,logits=out_layer))\n",
        "cross_entropy=tf.reduce_mean(tf.square(tf.math.subtract(out_layer,Y)))\n",
        "training_step=tf.train.AdamOptimizer(learning_rate).minimize(cross_entropy)"
      ],
      "execution_count": 0,
      "outputs": []
    },
    {
      "cell_type": "code",
      "metadata": {
        "id": "N2RGXTqK6vOM",
        "colab_type": "code",
        "outputId": "c443d598-e09c-4b74-81b3-cee0d4adea76",
        "colab": {
          "base_uri": "https://localhost:8080/",
          "height": 1253
        }
      },
      "source": [
        "testing_log=[[],[],[],[]]\n",
        "init=tf.global_variables_initializer()\n",
        "sess=tf.Session()\n",
        "sess.run(init)\n",
        "Test(0)\n",
        "place=0#excludes test data\n",
        "for i in range(batch_iterations):\n",
        "  batch_X=[]\n",
        "  batch_Y=[]\n",
        "  for j in range(batch_size):\n",
        "    x,y=prep(train_data.loc[place])\n",
        "    place+=1\n",
        "    place%=train_data.count()[0]\n",
        "    while place in hold_out:#if the index in test_data just keep going\n",
        "      place+=1\n",
        "      place%=train_data.count()[0]\n",
        "    batch_X.append(x)\n",
        "    batch_Y.append([y])\n",
        "  results=sess.run([cross_entropy,training_step],feed_dict={X:batch_X,Y:batch_Y,dropout:1})\n",
        "  if (i+1)%test_occurance==0:\n",
        "    x=math.sqrt(results[0])\n",
        "    print(\"training error:\",x)\n",
        "    testing_log[3].append(x)\n",
        "    Test(i+1)\n"
      ],
      "execution_count": 0,
      "outputs": [
        {
          "output_type": "stream",
          "text": [
            "---------------\n",
            "iteration: 0\n",
            "average guess: 0.12642089\n",
            "error: 0.43645913762069316\n",
            "---------------\n",
            "training error: 0.5759272945284326\n",
            "---------------\n",
            "iteration: 6\n",
            "average guess: 0.34318197\n",
            "error: 0.6571107850259763\n",
            "---------------\n",
            "training error: 0.6237647485996105\n",
            "---------------\n",
            "iteration: 12\n",
            "average guess: 0.0\n",
            "error: 0.48304589256792574\n",
            "---------------\n",
            "training error: 0.6237647485996105\n",
            "---------------\n",
            "iteration: 18\n",
            "average guess: 0.0\n",
            "error: 0.48304589256792574\n",
            "---------------\n",
            "training error: 0.6237647485996105\n",
            "---------------\n",
            "iteration: 24\n",
            "average guess: 0.0\n",
            "error: 0.48304589256792574\n",
            "---------------\n"
          ],
          "name": "stdout"
        },
        {
          "output_type": "error",
          "ename": "KeyboardInterrupt",
          "evalue": "ignored",
          "traceback": [
            "\u001b[0;31m---------------------------------------------------------------------------\u001b[0m",
            "\u001b[0;31mKeyboardInterrupt\u001b[0m                         Traceback (most recent call last)",
            "\u001b[0;32m<ipython-input-10-d67b2b69591e>\u001b[0m in \u001b[0;36m<module>\u001b[0;34m()\u001b[0m\n\u001b[1;32m     11\u001b[0m     \u001b[0mx\u001b[0m\u001b[0;34m,\u001b[0m\u001b[0my\u001b[0m\u001b[0;34m=\u001b[0m\u001b[0mprep\u001b[0m\u001b[0;34m(\u001b[0m\u001b[0mtrain_data\u001b[0m\u001b[0;34m.\u001b[0m\u001b[0mloc\u001b[0m\u001b[0;34m[\u001b[0m\u001b[0mplace\u001b[0m\u001b[0;34m]\u001b[0m\u001b[0;34m)\u001b[0m\u001b[0;34m\u001b[0m\u001b[0;34m\u001b[0m\u001b[0m\n\u001b[1;32m     12\u001b[0m     \u001b[0mplace\u001b[0m\u001b[0;34m+=\u001b[0m\u001b[0;36m1\u001b[0m\u001b[0;34m\u001b[0m\u001b[0;34m\u001b[0m\u001b[0m\n\u001b[0;32m---> 13\u001b[0;31m     \u001b[0mplace\u001b[0m\u001b[0;34m%=\u001b[0m\u001b[0mtrain_data\u001b[0m\u001b[0;34m.\u001b[0m\u001b[0mcount\u001b[0m\u001b[0;34m(\u001b[0m\u001b[0;34m)\u001b[0m\u001b[0;34m[\u001b[0m\u001b[0;36m0\u001b[0m\u001b[0;34m]\u001b[0m\u001b[0;34m\u001b[0m\u001b[0;34m\u001b[0m\u001b[0m\n\u001b[0m\u001b[1;32m     14\u001b[0m     \u001b[0;32mwhile\u001b[0m \u001b[0mplace\u001b[0m \u001b[0;32min\u001b[0m \u001b[0mhold_out\u001b[0m\u001b[0;34m:\u001b[0m\u001b[0;31m#if the index in test_data just keep going\u001b[0m\u001b[0;34m\u001b[0m\u001b[0;34m\u001b[0m\u001b[0m\n\u001b[1;32m     15\u001b[0m       \u001b[0mplace\u001b[0m\u001b[0;34m+=\u001b[0m\u001b[0;36m1\u001b[0m\u001b[0;34m\u001b[0m\u001b[0;34m\u001b[0m\u001b[0m\n",
            "\u001b[0;32m/usr/local/lib/python3.6/dist-packages/pandas/core/frame.py\u001b[0m in \u001b[0;36mcount\u001b[0;34m(self, axis, level, numeric_only)\u001b[0m\n\u001b[1;32m   5643\u001b[0m         \u001b[0;32melse\u001b[0m\u001b[0;34m:\u001b[0m\u001b[0;34m\u001b[0m\u001b[0;34m\u001b[0m\u001b[0m\n\u001b[1;32m   5644\u001b[0m             \u001b[0;32mif\u001b[0m \u001b[0mframe\u001b[0m\u001b[0;34m.\u001b[0m\u001b[0m_is_mixed_type\u001b[0m\u001b[0;34m:\u001b[0m\u001b[0;34m\u001b[0m\u001b[0;34m\u001b[0m\u001b[0m\n\u001b[0;32m-> 5645\u001b[0;31m                 \u001b[0mresult\u001b[0m \u001b[0;34m=\u001b[0m \u001b[0mnotna\u001b[0m\u001b[0;34m(\u001b[0m\u001b[0mframe\u001b[0m\u001b[0;34m)\u001b[0m\u001b[0;34m.\u001b[0m\u001b[0msum\u001b[0m\u001b[0;34m(\u001b[0m\u001b[0maxis\u001b[0m\u001b[0;34m=\u001b[0m\u001b[0maxis\u001b[0m\u001b[0;34m)\u001b[0m\u001b[0;34m\u001b[0m\u001b[0;34m\u001b[0m\u001b[0m\n\u001b[0m\u001b[1;32m   5646\u001b[0m             \u001b[0;32melse\u001b[0m\u001b[0;34m:\u001b[0m\u001b[0;34m\u001b[0m\u001b[0;34m\u001b[0m\u001b[0m\n\u001b[1;32m   5647\u001b[0m                 \u001b[0mcounts\u001b[0m \u001b[0;34m=\u001b[0m \u001b[0mnotna\u001b[0m\u001b[0;34m(\u001b[0m\u001b[0mframe\u001b[0m\u001b[0;34m.\u001b[0m\u001b[0mvalues\u001b[0m\u001b[0;34m)\u001b[0m\u001b[0;34m.\u001b[0m\u001b[0msum\u001b[0m\u001b[0;34m(\u001b[0m\u001b[0maxis\u001b[0m\u001b[0;34m=\u001b[0m\u001b[0maxis\u001b[0m\u001b[0;34m)\u001b[0m\u001b[0;34m\u001b[0m\u001b[0;34m\u001b[0m\u001b[0m\n",
            "\u001b[0;32m/usr/local/lib/python3.6/dist-packages/pandas/core/generic.py\u001b[0m in \u001b[0;36mstat_func\u001b[0;34m(self, axis, skipna, level, numeric_only, min_count, **kwargs)\u001b[0m\n\u001b[1;32m   7293\u001b[0m                                       skipna=skipna, min_count=min_count)\n\u001b[1;32m   7294\u001b[0m         return self._reduce(f, name, axis=axis, skipna=skipna,\n\u001b[0;32m-> 7295\u001b[0;31m                             numeric_only=numeric_only, min_count=min_count)\n\u001b[0m\u001b[1;32m   7296\u001b[0m \u001b[0;34m\u001b[0m\u001b[0m\n\u001b[1;32m   7297\u001b[0m     \u001b[0;32mreturn\u001b[0m \u001b[0mset_function_name\u001b[0m\u001b[0;34m(\u001b[0m\u001b[0mstat_func\u001b[0m\u001b[0;34m,\u001b[0m \u001b[0mname\u001b[0m\u001b[0;34m,\u001b[0m \u001b[0mcls\u001b[0m\u001b[0;34m)\u001b[0m\u001b[0;34m\u001b[0m\u001b[0;34m\u001b[0m\u001b[0m\n",
            "\u001b[0;32m/usr/local/lib/python3.6/dist-packages/pandas/core/frame.py\u001b[0m in \u001b[0;36m_reduce\u001b[0;34m(self, op, name, axis, skipna, numeric_only, filter_type, **kwds)\u001b[0m\n\u001b[1;32m   5693\u001b[0m     def _reduce(self, op, name, axis=0, skipna=True, numeric_only=None,\n\u001b[1;32m   5694\u001b[0m                 filter_type=None, **kwds):\n\u001b[0;32m-> 5695\u001b[0;31m         \u001b[0maxis\u001b[0m \u001b[0;34m=\u001b[0m \u001b[0mself\u001b[0m\u001b[0;34m.\u001b[0m\u001b[0m_get_axis_number\u001b[0m\u001b[0;34m(\u001b[0m\u001b[0maxis\u001b[0m\u001b[0;34m)\u001b[0m\u001b[0;34m\u001b[0m\u001b[0;34m\u001b[0m\u001b[0m\n\u001b[0m\u001b[1;32m   5696\u001b[0m \u001b[0;34m\u001b[0m\u001b[0m\n\u001b[1;32m   5697\u001b[0m         \u001b[0;32mdef\u001b[0m \u001b[0mf\u001b[0m\u001b[0;34m(\u001b[0m\u001b[0mx\u001b[0m\u001b[0;34m)\u001b[0m\u001b[0;34m:\u001b[0m\u001b[0;34m\u001b[0m\u001b[0;34m\u001b[0m\u001b[0m\n",
            "\u001b[0;32m/usr/local/lib/python3.6/dist-packages/pandas/core/generic.py\u001b[0m in \u001b[0;36m_get_axis_number\u001b[0;34m(self, axis)\u001b[0m\n\u001b[1;32m    345\u001b[0m \u001b[0;34m\u001b[0m\u001b[0m\n\u001b[1;32m    346\u001b[0m     \u001b[0;32mdef\u001b[0m \u001b[0m_get_axis_number\u001b[0m\u001b[0;34m(\u001b[0m\u001b[0mself\u001b[0m\u001b[0;34m,\u001b[0m \u001b[0maxis\u001b[0m\u001b[0;34m)\u001b[0m\u001b[0;34m:\u001b[0m\u001b[0;34m\u001b[0m\u001b[0;34m\u001b[0m\u001b[0m\n\u001b[0;32m--> 347\u001b[0;31m         \u001b[0maxis\u001b[0m \u001b[0;34m=\u001b[0m \u001b[0mself\u001b[0m\u001b[0;34m.\u001b[0m\u001b[0m_AXIS_ALIASES\u001b[0m\u001b[0;34m.\u001b[0m\u001b[0mget\u001b[0m\u001b[0;34m(\u001b[0m\u001b[0maxis\u001b[0m\u001b[0;34m,\u001b[0m \u001b[0maxis\u001b[0m\u001b[0;34m)\u001b[0m\u001b[0;34m\u001b[0m\u001b[0;34m\u001b[0m\u001b[0m\n\u001b[0m\u001b[1;32m    348\u001b[0m         \u001b[0;32mif\u001b[0m \u001b[0mis_integer\u001b[0m\u001b[0;34m(\u001b[0m\u001b[0maxis\u001b[0m\u001b[0;34m)\u001b[0m\u001b[0;34m:\u001b[0m\u001b[0;34m\u001b[0m\u001b[0;34m\u001b[0m\u001b[0m\n\u001b[1;32m    349\u001b[0m             \u001b[0;32mif\u001b[0m \u001b[0maxis\u001b[0m \u001b[0;32min\u001b[0m \u001b[0mself\u001b[0m\u001b[0;34m.\u001b[0m\u001b[0m_AXIS_NAMES\u001b[0m\u001b[0;34m:\u001b[0m\u001b[0;34m\u001b[0m\u001b[0;34m\u001b[0m\u001b[0m\n",
            "\u001b[0;31mKeyboardInterrupt\u001b[0m: "
          ]
        }
      ]
    },
    {
      "cell_type": "code",
      "metadata": {
        "id": "3ZG6SpPxbQDL",
        "colab_type": "code",
        "outputId": "d00f6f7b-c873-4fb4-b0d8-93f840259632",
        "colab": {
          "base_uri": "https://localhost:8080/",
          "height": 347
        }
      },
      "source": [
        "plt.plot(testing_log[0],testing_log[1])#graphing error\n",
        "plt.plot(testing_log[0],testing_log[2])#graphing average guess\n",
        "plt.plot([0,0],[0,1],\"r\")\n",
        "plt.plot([0,batch_iterations],[0.5,0.5],\"r\")\n",
        "plt.plot([0,batch_iterations],[test_data_average,test_data_average],\"y\")\n",
        "plt.plot(testing_log[0][1:],testing_log[3])\n",
        "plt.show()\n"
      ],
      "execution_count": 0,
      "outputs": [
        {
          "output_type": "display_data",
          "data": {
            "image/png": "[encoded data removed]",
            "text/plain": [
              "<Figure size 576x396 with 1 Axes>"
            ]
          },
          "metadata": {
            "tags": []
          }
        }
      ]
    },
    {
      "cell_type": "code",
      "metadata": {
        "id": "PKvg9CZi6g5W",
        "colab_type": "code",
        "outputId": "34f66a73-6ca6-4d87-9d6e-5b429fc672ce",
        "colab": {
          "base_uri": "https://localhost:8080/",
          "height": 248
        }
      },
      "source": [
        "sess.run(weights[0])"
      ],
      "execution_count": 0,
      "outputs": [
        {
          "output_type": "execute_result",
          "data": {
            "text/plain": [
              "array([[-0.16443181, -0.10576075, -0.05585624, ...,  0.10315685,\n",
              "        -0.02623703,  0.00111963],\n",
              "       [-0.20860457,  0.00634965,  0.08074883, ..., -0.05489729,\n",
              "         0.03758308, -0.10141505],\n",
              "       [-0.09730501, -0.04462957, -0.00532899, ..., -0.05176582,\n",
              "         0.01044383, -0.1996431 ],\n",
              "       ...,\n",
              "       [-0.1788281 , -0.11392321, -0.13892026, ...,  0.01962324,\n",
              "        -0.07983497, -0.23447305],\n",
              "       [ 0.09623888, -0.08428939,  0.08082709, ...,  0.11812884,\n",
              "         0.13036336,  0.02489224],\n",
              "       [-0.03439557, -0.00041214, -0.00092972, ..., -0.05083841,\n",
              "         0.04666192, -0.00682013]], dtype=float32)"
            ]
          },
          "metadata": {
            "tags": []
          },
          "execution_count": 36
        }
      ]
    },
    {
      "cell_type": "code",
      "metadata": {
        "id": "ZUyRH-cvCOjc",
        "colab_type": "code",
        "outputId": "583178d8-3415-4edc-fb05-d9aafdfe0458",
        "colab": {
          "base_uri": "https://localhost:8080/",
          "height": 630
        }
      },
      "source": [
        "test_i=861\n",
        "print(train_data.loc[test_i])\n",
        "x,y=prep(train_data.loc[test_i])\n",
        "test_guess = sess.run(out_layer, feed_dict={X:[x], Y: [[y]],dropout:0})\n",
        "error=sess.run(cross_entropy,feed_dict={X:[x],Y:[[y]],dropout:0})\n",
        "print(\"\\nguess on test:\",test_guess )\n",
        "print(\"error:\",math.sqrt(error))\n",
        "print(y)"
      ],
      "execution_count": 0,
      "outputs": [
        {
          "output_type": "stream",
          "text": [
            "Survived                           0\n",
            "Pclass                             2\n",
            "Sex                                1\n",
            "Age                               21\n",
            "SibSp                              1\n",
            "Parch                              0\n",
            "Fare                            11.5\n",
            "Embarked                [1, 0, 0, 0]\n",
            "CabinA      [0, 0, 0, 0, 0, 0, 0, 0]\n",
            "CabinB                             0\n",
            "Name: 861, dtype: object\n",
            "\n",
            "guess on test: [[0.24798352 0.24769664 0.24814212 0.24796711 0.24784565 0.24808794\n",
            "  0.24775033 0.24747139 0.24786322 0.2479305  0.24796183 0.24808967\n",
            "  0.24799599 0.24830061 0.24785405 0.24752308 0.24780232 0.24833287\n",
            "  0.24760026 0.2478061  0.2475564  0.24815735 0.24825649 0.24737954\n",
            "  0.24776569 0.24822262 0.2478931  0.24820395 0.2476953  0.24812602\n",
            "  0.24808589 0.24855469 0.2478621  0.24802755 0.24837983 0.24803258\n",
            "  0.24793261 0.24785253 0.24804191 0.24811503 0.24836104 0.2481059\n",
            "  0.24848242 0.24795595 0.24815838 0.24802954 0.24807274 0.24778663\n",
            "  0.24820028 0.24772269 0.24766897 0.24832048 0.24762604 0.24791312\n",
            "  0.24791716 0.24758774 0.24791177 0.24852723 0.24830708 0.24788934\n",
            "  0.24795218 0.24781232 0.24801195 0.24766295]]\n"
          ],
          "name": "stdout"
        },
        {
          "output_type": "error",
          "ename": "TypeError",
          "evalue": "ignored",
          "traceback": [
            "\u001b[0;31m---------------------------------------------------------------------------\u001b[0m",
            "\u001b[0;31mTypeError\u001b[0m                                 Traceback (most recent call last)",
            "\u001b[0;32m<ipython-input-37-efa4388981d1>\u001b[0m in \u001b[0;36m<module>\u001b[0;34m()\u001b[0m\n\u001b[1;32m      5\u001b[0m \u001b[0merror\u001b[0m\u001b[0;34m=\u001b[0m\u001b[0msess\u001b[0m\u001b[0;34m.\u001b[0m\u001b[0mrun\u001b[0m\u001b[0;34m(\u001b[0m\u001b[0mcross_entropy\u001b[0m\u001b[0;34m,\u001b[0m\u001b[0mfeed_dict\u001b[0m\u001b[0;34m=\u001b[0m\u001b[0;34m{\u001b[0m\u001b[0mX\u001b[0m\u001b[0;34m:\u001b[0m\u001b[0;34m[\u001b[0m\u001b[0mx\u001b[0m\u001b[0;34m]\u001b[0m\u001b[0;34m,\u001b[0m\u001b[0mY\u001b[0m\u001b[0;34m:\u001b[0m\u001b[0;34m[\u001b[0m\u001b[0;34m[\u001b[0m\u001b[0my\u001b[0m\u001b[0;34m]\u001b[0m\u001b[0;34m]\u001b[0m\u001b[0;34m,\u001b[0m\u001b[0mdropout\u001b[0m\u001b[0;34m:\u001b[0m\u001b[0;36m0\u001b[0m\u001b[0;34m}\u001b[0m\u001b[0;34m)\u001b[0m\u001b[0;34m\u001b[0m\u001b[0;34m\u001b[0m\u001b[0m\n\u001b[1;32m      6\u001b[0m \u001b[0mprint\u001b[0m\u001b[0;34m(\u001b[0m\u001b[0;34m\"\\nguess on test:\"\u001b[0m\u001b[0;34m,\u001b[0m\u001b[0mtest_guess\u001b[0m \u001b[0;34m)\u001b[0m\u001b[0;34m\u001b[0m\u001b[0;34m\u001b[0m\u001b[0m\n\u001b[0;32m----> 7\u001b[0;31m \u001b[0mprint\u001b[0m\u001b[0;34m(\u001b[0m\u001b[0;34m\"error:\"\u001b[0m\u001b[0;34m,\u001b[0m\u001b[0mmath\u001b[0m\u001b[0;34m.\u001b[0m\u001b[0msqrt\u001b[0m\u001b[0;34m(\u001b[0m\u001b[0merror\u001b[0m\u001b[0;34m)\u001b[0m\u001b[0;34m)\u001b[0m\u001b[0;34m\u001b[0m\u001b[0;34m\u001b[0m\u001b[0m\n\u001b[0m\u001b[1;32m      8\u001b[0m \u001b[0mprint\u001b[0m\u001b[0;34m(\u001b[0m\u001b[0my\u001b[0m\u001b[0;34m)\u001b[0m\u001b[0;34m\u001b[0m\u001b[0;34m\u001b[0m\u001b[0m\n",
            "\u001b[0;31mTypeError\u001b[0m: only size-1 arrays can be converted to Python scalars"
          ]
        }
      ]
    },
    {
      "cell_type": "code",
      "metadata": {
        "id": "s9VexKUObToq",
        "colab_type": "code",
        "outputId": "6abeb3bb-932f-4426-8164-84ce140ffa78",
        "colab": {
          "base_uri": "https://localhost:8080/",
          "height": 1901
        }
      },
      "source": [
        "new=np.array([[0],[1],[1],[30],[0],[0],[30],[1,0,0,0],[1,0,0,0,0,0,0,0],[31]])\n",
        "x,y=prep(new)\n",
        "tracker=sess.run([out_layer,layers,X], feed_dict={X:[x], Y: [y]})\n",
        "test_guess = tracker[0]\n",
        "layer_values=tracker[1]\n",
        "inputs=tracker[2]\n",
        "print(test_guess[0][0])\n",
        "print(tracker[2])\n",
        "layer_values[0]"
      ],
      "execution_count": 0,
      "outputs": [
        {
          "output_type": "stream",
          "text": [
            "0.24798352\n",
            "[[ 1.  1. 30.  0.  0. 30.  1.  0.  0.  0.  1.  0.  0.  0.  0.  0.  0.  0.\n",
            "  31.]]\n"
          ],
          "name": "stdout"
        },
        {
          "output_type": "execute_result",
          "data": {
            "text/plain": [
              "array([[0.        , 0.        , 0.        , 0.        , 0.        ,\n",
              "        0.        , 0.        , 0.        , 0.        , 0.        ,\n",
              "        0.        , 0.        , 0.        , 0.        , 0.        ,\n",
              "        0.        , 0.        , 0.        , 2.1990747 , 0.        ,\n",
              "        0.        , 0.        , 0.        , 0.        , 0.        ,\n",
              "        0.        , 0.        , 0.41410166, 0.        , 0.        ,\n",
              "        0.        , 0.        , 0.        , 0.        , 0.        ,\n",
              "        0.        , 0.        , 0.        , 0.        , 4.667697  ,\n",
              "        0.        , 0.        , 0.        , 0.        , 0.        ,\n",
              "        0.        , 0.        , 0.        , 0.        , 0.        ,\n",
              "        0.        , 0.        , 3.543169  , 0.        , 0.        ,\n",
              "        0.        , 0.        , 0.        , 0.        , 0.        ,\n",
              "        0.        , 0.        , 1.5066113 , 0.        , 0.        ,\n",
              "        0.        , 0.        , 0.        , 0.        , 0.        ,\n",
              "        3.5985923 , 0.        , 0.        , 0.        , 0.        ,\n",
              "        0.        , 0.        , 0.        , 0.        , 0.        ,\n",
              "        0.02485857, 0.        , 3.5209105 , 0.        , 0.        ,\n",
              "        0.        , 0.        , 0.        , 0.        , 0.        ,\n",
              "        0.        , 0.        , 0.        , 0.        , 0.        ,\n",
              "        0.        , 0.        , 0.        , 0.        , 0.        ,\n",
              "        0.        , 0.        , 0.        , 0.        , 0.        ,\n",
              "        0.        , 0.        , 0.        , 0.        , 1.8463856 ,\n",
              "        0.        , 0.        , 0.        , 0.        , 0.        ,\n",
              "        2.3785565 , 0.8653297 , 2.2520955 , 4.183631  , 2.0204878 ,\n",
              "        0.        , 0.        , 0.        , 0.8845189 , 0.        ,\n",
              "        0.        , 0.        , 0.        , 0.        , 0.        ,\n",
              "        0.        , 0.        , 0.        , 0.        , 0.        ,\n",
              "        0.        , 0.        , 0.        , 4.540491  , 0.        ,\n",
              "        3.2215173 , 0.        , 0.        , 0.        , 0.        ,\n",
              "        0.        , 3.6035357 , 0.        , 0.        , 0.        ,\n",
              "        0.        , 0.        , 0.        , 0.        , 0.        ,\n",
              "        0.        , 0.        , 0.        , 0.        , 0.        ,\n",
              "        0.        , 0.        , 0.        , 0.        , 0.        ,\n",
              "        0.        , 0.77190274, 0.        , 0.        , 0.        ,\n",
              "        0.        , 1.4765455 , 0.        , 0.        , 0.        ,\n",
              "        0.        , 0.        , 0.        , 0.        , 0.        ,\n",
              "        0.        , 0.        , 0.        , 0.        , 0.        ,\n",
              "        0.        , 0.        , 0.        , 0.        , 0.        ,\n",
              "        0.        , 0.        , 0.        , 0.        , 0.        ,\n",
              "        0.        , 0.        , 0.        , 0.        , 0.        ,\n",
              "        0.        , 0.        , 0.        , 0.        , 0.8658534 ,\n",
              "        0.        , 0.        , 0.        , 0.        , 0.        ,\n",
              "        0.        , 0.        , 0.        , 0.        , 0.        ,\n",
              "        0.        , 0.        , 0.        , 0.        , 0.        ,\n",
              "        0.        , 0.        , 0.        , 0.        , 0.        ,\n",
              "        0.        , 0.        , 0.        , 0.        , 0.        ,\n",
              "        0.        , 0.        , 0.        , 0.        , 0.        ,\n",
              "        0.        , 0.        , 0.        , 0.46383736, 0.        ,\n",
              "        0.        , 3.5051873 , 0.        , 0.        , 0.        ,\n",
              "        0.        , 0.        , 9.501643  , 0.        , 0.        ,\n",
              "        0.        , 0.        , 0.        , 0.        , 0.        ,\n",
              "        0.        , 0.        , 0.        , 0.        , 0.        ,\n",
              "        0.        , 0.        , 3.7793343 , 0.        , 5.7801533 ,\n",
              "        0.        , 0.        , 0.        , 0.        , 0.        ,\n",
              "        0.        , 0.17927733, 0.        , 1.6055242 , 0.        ,\n",
              "        0.        , 0.        , 0.        , 0.        , 0.36027497,\n",
              "        0.        , 0.        , 5.4935474 , 0.48195323, 1.5502672 ,\n",
              "        0.        , 0.        , 0.        , 0.        , 1.134083  ,\n",
              "        0.        , 0.        , 0.        , 6.6773176 , 0.        ,\n",
              "        0.        , 0.01392112, 0.        , 0.        , 0.        ,\n",
              "        0.        , 0.        , 0.653674  , 0.68426394, 0.0441377 ,\n",
              "        0.        , 0.        , 1.407079  , 0.        , 0.        ,\n",
              "        0.        , 0.        , 0.        , 0.        , 0.        ,\n",
              "        0.        , 0.        , 0.        , 1.3785242 , 0.        ,\n",
              "        0.        , 0.        , 0.        , 0.        , 2.774481  ,\n",
              "        0.        , 0.        , 0.        , 0.        , 0.        ,\n",
              "        0.        , 0.        , 0.        , 0.        , 0.        ,\n",
              "        0.        , 2.330822  , 0.        , 0.        , 0.        ,\n",
              "        0.        , 0.        , 0.        , 2.6279352 , 0.        ,\n",
              "        0.        , 0.        , 0.        , 0.        , 0.        ,\n",
              "        0.        , 0.        , 0.        , 0.        , 0.        ,\n",
              "        5.432145  , 0.        , 0.20143853, 0.        , 0.        ,\n",
              "        0.        , 0.        , 0.        , 0.        , 0.08200023,\n",
              "        0.84135044, 0.        , 0.        , 0.        , 0.        ,\n",
              "        0.        , 0.        , 0.        , 1.2103404 , 1.8550404 ,\n",
              "        0.46013385, 6.005546  , 0.        , 0.        , 0.        ,\n",
              "        0.        , 0.        , 3.4884796 , 0.        , 3.1718776 ,\n",
              "        0.        , 0.        , 0.        , 0.        , 0.        ,\n",
              "        0.        , 5.258073  , 0.        , 0.        , 0.        ,\n",
              "        0.        , 0.        , 0.        , 0.        , 0.        ,\n",
              "        0.        , 0.        , 0.        , 0.        , 0.        ,\n",
              "        0.        , 0.        , 0.        , 0.        , 0.        ,\n",
              "        0.        , 0.        , 4.588343  , 0.        , 0.        ,\n",
              "        2.3678274 , 0.        , 0.        , 3.6597185 , 0.        ,\n",
              "        0.        , 0.        , 0.        , 0.        , 0.        ,\n",
              "        0.        , 0.        , 0.        , 1.5291069 , 0.7728376 ,\n",
              "        0.        , 0.        , 0.        , 0.        , 0.        ,\n",
              "        0.        , 0.        , 0.        , 0.        , 0.        ,\n",
              "        0.        , 6.4105864 , 0.        , 0.        , 0.        ,\n",
              "        0.        , 0.        , 0.        , 0.        , 0.        ,\n",
              "        2.5024521 , 2.4504862 , 0.        , 4.7261987 , 0.        ,\n",
              "        0.        , 6.660885  , 0.        , 0.        , 0.        ,\n",
              "        0.        , 0.        , 0.        , 0.        , 0.        ,\n",
              "        0.        , 1.3773726 , 0.        , 0.        , 0.        ,\n",
              "        0.        , 0.        , 0.        , 0.        , 0.        ,\n",
              "        0.        , 0.        , 3.1949658 , 1.3149626 , 0.        ,\n",
              "        0.        , 0.        , 0.        , 0.759802  , 0.        ,\n",
              "        0.        , 0.        , 0.        , 0.        , 0.        ,\n",
              "        0.        , 0.01284477, 0.        , 0.        , 0.        ,\n",
              "        0.        , 0.        , 0.        , 0.        , 0.        ,\n",
              "        0.        , 0.        , 0.        , 0.        , 0.        ,\n",
              "        0.        , 0.        , 0.        , 0.21018258, 0.        ,\n",
              "        0.77866584, 0.        ]], dtype=float32)"
            ]
          },
          "metadata": {
            "tags": []
          },
          "execution_count": 38
        }
      ]
    },
    {
      "cell_type": "markdown",
      "metadata": {
        "id": "0Pvqw84HDHd4",
        "colab_type": "text"
      },
      "source": [
        "Kaggle test subission"
      ]
    },
    {
      "cell_type": "code",
      "metadata": {
        "id": "eBSRPwe5DDSX",
        "colab_type": "code",
        "colab": {}
      },
      "source": [
        "test_url=\"https://raw.githubusercontent.com/brianbob12/brianbob12.github.io/master/titanic_test.csv\"\n",
        "test_data=pd.read_csv(test_url)\n",
        "test_data=test_data.drop(columns=[\"Name\",\"Ticket\"])#remove irrelecent or unusable data\n",
        "\n",
        "#split the cabin data into two poits\n",
        "pre_CabinA=[]#CabinA is the cabin letter(as an array of 8  -Nan and the 7 letters)\n",
        "#pre_CabinA    [A,B,C,D,E,F,G,T,nan]\n",
        "pre_CabinB=[]#CabinB is the cabin number 0 for nan\n",
        "for cab in test_data[\"Cabin\"]:\n",
        "  if str(cab) ==\"nan\":\n",
        "    pre_CabinA.append(np.array([0 for i in range(8)]))\n",
        "    pre_CabinB.append(0)\n",
        "  elif len(str(cab).split(\" \"))>1:\n",
        "    a=str(cab).split(\" \")\n",
        "    for pos in a:\n",
        "      if len(str(pos))>1:\n",
        "        new_cab=pos\n",
        "    \n",
        "    let=new_cab[0]\n",
        "    to_let=[0 for i in range(8)]\n",
        "    if let!=\"T\":\n",
        "      to_let[ord(let)-65]=1\n",
        "    else:\n",
        "      to_let[6]=1\n",
        "    num=int(new_cab[1:])\n",
        "    pre_CabinA.append(np.array(to_let))\n",
        "    pre_CabinB.append(num)\n",
        "  else:\n",
        "    \n",
        "    if len(str(cab))==1:\n",
        "      new_cab=cab+\"0\"\n",
        "    else:\n",
        "      new_cab=cab\n",
        "    \n",
        "    let=new_cab[0]\n",
        "    to_let=[0 for i in range(8)]\n",
        "    if let!=\"T\":\n",
        "      to_let[ord(let)-65]=1\n",
        "    else:\n",
        "      to_let[6]=1\n",
        "    num=int(new_cab[1:])\n",
        "    pre_CabinA.append(np.array(to_let))\n",
        "    pre_CabinB.append(num)\n",
        "test_data[\"CabinA\"]=pre_CabinA\n",
        "test_data[\"CabinB\"]=pre_CabinB\n",
        "new_age=[]\n",
        "for ind in test_data[\"Age\"]:\n",
        "  if str(ind).lower()==\"nan\":\n",
        "    new_age.append(-1)#unavailable age\n",
        "  else:\n",
        "    new_age.append(int(ind))\n",
        "test_data[\"Age\"]=new_age\n",
        "test_data=test_data.drop(columns=[\"Cabin\"])\n",
        "\n",
        "#embarked\n",
        "#array of 4\n",
        "new_embark=[]\n",
        "un=test_data[\"Embarked\"].unique()\n",
        "for i in test_data[\"Embarked\"]:\n",
        "  for inx,j in enumerate(un):\n",
        "    if str(i)==str(j):\n",
        "      ps=[0 for i in range(4)]\n",
        "      ps[inx]=1\n",
        "      new_embark.append(np.array(ps))\n",
        "      break\n",
        "test_data[\"Embarked\"]=new_embark\n",
        "#sex\n",
        "#0-female\n",
        "#1-male\n",
        "new_sex=[]\n",
        "for i in test_data[\"Sex\"]:\n",
        "  if i==\"female\":\n",
        "    new_sex.append(0)\n",
        "  else:\n",
        "    new_sex.append(1)\n",
        "test_data[\"Sex\"]=new_sex"
      ],
      "execution_count": 0,
      "outputs": []
    },
    {
      "cell_type": "code",
      "metadata": {
        "id": "XEMC2ZESEWMd",
        "colab_type": "code",
        "colab": {}
      },
      "source": [
        "out=pd.DataFrame({\"PassengerId\":[],\"Survived\":[]})\n",
        "passengar=[]\n",
        "life=[]\n",
        "for i in range(test_data.count()[0]):\n",
        "  x,y=prep(test_data.loc[i])#y is passengarId\n",
        "  passengar.append(y)\n",
        "  life.append(round(sess.run(out_layer,feed_dict={X:[x],Y:[[y]]})[0][0]))\n",
        "out[\"PassengerId\"]=passengar\n",
        "out[\"Survived\"]=life\n",
        "out.to_csv(\"preds.csv\")"
      ],
      "execution_count": 0,
      "outputs": []
    }
  ]
}